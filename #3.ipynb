{
 "cells": [
  {
   "cell_type": "code",
   "execution_count": 1,
   "metadata": {},
   "outputs": [],
   "source": [
    "import pandas as pd\n",
    "import matplotlib.pyplot as plt\n",
    "%matplotlib inline\n",
    "import numpy as np"
   ]
  },
  {
   "cell_type": "code",
   "execution_count": 10,
   "metadata": {},
   "outputs": [
    {
     "data": {
      "text/html": [
       "<div>\n",
       "<style scoped>\n",
       "    .dataframe tbody tr th:only-of-type {\n",
       "        vertical-align: middle;\n",
       "    }\n",
       "\n",
       "    .dataframe tbody tr th {\n",
       "        vertical-align: top;\n",
       "    }\n",
       "\n",
       "    .dataframe thead th {\n",
       "        text-align: right;\n",
       "    }\n",
       "</style>\n",
       "<table border=\"1\" class=\"dataframe\">\n",
       "  <thead>\n",
       "    <tr style=\"text-align: right;\">\n",
       "      <th></th>\n",
       "      <th>address_id</th>\n",
       "      <th>cluster_id</th>\n",
       "      <th>id</th>\n",
       "      <th>transaction_id</th>\n",
       "      <th>received</th>\n",
       "      <th>sent</th>\n",
       "    </tr>\n",
       "  </thead>\n",
       "  <tbody>\n",
       "    <tr>\n",
       "      <th>0</th>\n",
       "      <td>71413451</td>\n",
       "      <td>1.0</td>\n",
       "      <td>135571000</td>\n",
       "      <td>29319673</td>\n",
       "      <td>1003590.0</td>\n",
       "      <td>0.0</td>\n",
       "    </tr>\n",
       "    <tr>\n",
       "      <th>1</th>\n",
       "      <td>71413451</td>\n",
       "      <td>1.0</td>\n",
       "      <td>135679242</td>\n",
       "      <td>29338157</td>\n",
       "      <td>0.0</td>\n",
       "      <td>1003590.0</td>\n",
       "    </tr>\n",
       "    <tr>\n",
       "      <th>2</th>\n",
       "      <td>71411914</td>\n",
       "      <td>1.0</td>\n",
       "      <td>135568134</td>\n",
       "      <td>29319205</td>\n",
       "      <td>1259370.0</td>\n",
       "      <td>0.0</td>\n",
       "    </tr>\n",
       "    <tr>\n",
       "      <th>3</th>\n",
       "      <td>71411914</td>\n",
       "      <td>1.0</td>\n",
       "      <td>135679245</td>\n",
       "      <td>29338157</td>\n",
       "      <td>0.0</td>\n",
       "      <td>1259370.0</td>\n",
       "    </tr>\n",
       "    <tr>\n",
       "      <th>4</th>\n",
       "      <td>71410369</td>\n",
       "      <td>1.0</td>\n",
       "      <td>135565307</td>\n",
       "      <td>29318455</td>\n",
       "      <td>21009000.0</td>\n",
       "      <td>0.0</td>\n",
       "    </tr>\n",
       "    <tr>\n",
       "      <th>5</th>\n",
       "      <td>71410369</td>\n",
       "      <td>1.0</td>\n",
       "      <td>135679241</td>\n",
       "      <td>29338157</td>\n",
       "      <td>0.0</td>\n",
       "      <td>21009000.0</td>\n",
       "    </tr>\n",
       "    <tr>\n",
       "      <th>6</th>\n",
       "      <td>71410100</td>\n",
       "      <td>1.0</td>\n",
       "      <td>135564903</td>\n",
       "      <td>29318320</td>\n",
       "      <td>103699500.0</td>\n",
       "      <td>0.0</td>\n",
       "    </tr>\n",
       "    <tr>\n",
       "      <th>7</th>\n",
       "      <td>71410100</td>\n",
       "      <td>1.0</td>\n",
       "      <td>135679247</td>\n",
       "      <td>29338157</td>\n",
       "      <td>0.0</td>\n",
       "      <td>103699500.0</td>\n",
       "    </tr>\n",
       "    <tr>\n",
       "      <th>8</th>\n",
       "      <td>71410040</td>\n",
       "      <td>1.0</td>\n",
       "      <td>135564812</td>\n",
       "      <td>29318289</td>\n",
       "      <td>1809000.0</td>\n",
       "      <td>0.0</td>\n",
       "    </tr>\n",
       "    <tr>\n",
       "      <th>9</th>\n",
       "      <td>71410040</td>\n",
       "      <td>1.0</td>\n",
       "      <td>135679239</td>\n",
       "      <td>29338157</td>\n",
       "      <td>0.0</td>\n",
       "      <td>1809000.0</td>\n",
       "    </tr>\n",
       "    <tr>\n",
       "      <th>10</th>\n",
       "      <td>71396840</td>\n",
       "      <td>1.0</td>\n",
       "      <td>135539632</td>\n",
       "      <td>29313765</td>\n",
       "      <td>1985834.0</td>\n",
       "      <td>0.0</td>\n",
       "    </tr>\n",
       "    <tr>\n",
       "      <th>11</th>\n",
       "      <td>71396840</td>\n",
       "      <td>1.0</td>\n",
       "      <td>135679248</td>\n",
       "      <td>29338157</td>\n",
       "      <td>0.0</td>\n",
       "      <td>1985834.0</td>\n",
       "    </tr>\n",
       "    <tr>\n",
       "      <th>12</th>\n",
       "      <td>71376034</td>\n",
       "      <td>1.0</td>\n",
       "      <td>135498160</td>\n",
       "      <td>29306304</td>\n",
       "      <td>24019000.0</td>\n",
       "      <td>0.0</td>\n",
       "    </tr>\n",
       "    <tr>\n",
       "      <th>13</th>\n",
       "      <td>71376034</td>\n",
       "      <td>1.0</td>\n",
       "      <td>135564902</td>\n",
       "      <td>29318320</td>\n",
       "      <td>3005000.0</td>\n",
       "      <td>0.0</td>\n",
       "    </tr>\n",
       "    <tr>\n",
       "      <th>14</th>\n",
       "      <td>71376034</td>\n",
       "      <td>1.0</td>\n",
       "      <td>135565305</td>\n",
       "      <td>29318455</td>\n",
       "      <td>0.0</td>\n",
       "      <td>24019000.0</td>\n",
       "    </tr>\n",
       "  </tbody>\n",
       "</table>\n",
       "</div>"
      ],
      "text/plain": [
       "    address_id  cluster_id         id  transaction_id     received  \\\n",
       "0     71413451         1.0  135571000        29319673    1003590.0   \n",
       "1     71413451         1.0  135679242        29338157          0.0   \n",
       "2     71411914         1.0  135568134        29319205    1259370.0   \n",
       "3     71411914         1.0  135679245        29338157          0.0   \n",
       "4     71410369         1.0  135565307        29318455   21009000.0   \n",
       "5     71410369         1.0  135679241        29338157          0.0   \n",
       "6     71410100         1.0  135564903        29318320  103699500.0   \n",
       "7     71410100         1.0  135679247        29338157          0.0   \n",
       "8     71410040         1.0  135564812        29318289    1809000.0   \n",
       "9     71410040         1.0  135679239        29338157          0.0   \n",
       "10    71396840         1.0  135539632        29313765    1985834.0   \n",
       "11    71396840         1.0  135679248        29338157          0.0   \n",
       "12    71376034         1.0  135498160        29306304   24019000.0   \n",
       "13    71376034         1.0  135564902        29318320    3005000.0   \n",
       "14    71376034         1.0  135565305        29318455          0.0   \n",
       "\n",
       "           sent  \n",
       "0           0.0  \n",
       "1     1003590.0  \n",
       "2           0.0  \n",
       "3     1259370.0  \n",
       "4           0.0  \n",
       "5    21009000.0  \n",
       "6           0.0  \n",
       "7   103699500.0  \n",
       "8           0.0  \n",
       "9     1809000.0  \n",
       "10          0.0  \n",
       "11    1985834.0  \n",
       "12          0.0  \n",
       "13          0.0  \n",
       "14   24019000.0  "
      ]
     },
     "execution_count": 10,
     "metadata": {},
     "output_type": "execute_result"
    }
   ],
   "source": [
    "data = pd.read_csv('address_clust.csv')\n",
    "stats = pd.read_csv('address_stats.csv')\n",
    "data = pd.merge(data,stats,on='address_id',how='right')\n",
    "data.head(15)"
   ]
  },
  {
   "cell_type": "code",
   "execution_count": 11,
   "metadata": {},
   "outputs": [
    {
     "data": {
      "text/html": [
       "<div>\n",
       "<style scoped>\n",
       "    .dataframe tbody tr th:only-of-type {\n",
       "        vertical-align: middle;\n",
       "    }\n",
       "\n",
       "    .dataframe tbody tr th {\n",
       "        vertical-align: top;\n",
       "    }\n",
       "\n",
       "    .dataframe thead th {\n",
       "        text-align: right;\n",
       "    }\n",
       "</style>\n",
       "<table border=\"1\" class=\"dataframe\">\n",
       "  <thead>\n",
       "    <tr style=\"text-align: right;\">\n",
       "      <th></th>\n",
       "      <th>address_id</th>\n",
       "      <th>cluster_id</th>\n",
       "      <th>id</th>\n",
       "      <th>transaction_id</th>\n",
       "      <th>received</th>\n",
       "      <th>sent</th>\n",
       "    </tr>\n",
       "  </thead>\n",
       "  <tbody>\n",
       "    <tr>\n",
       "      <th>58475</th>\n",
       "      <td>46402336</td>\n",
       "      <td>NaN</td>\n",
       "      <td>87134765</td>\n",
       "      <td>19162323</td>\n",
       "      <td>0.0</td>\n",
       "      <td>1800000.0</td>\n",
       "    </tr>\n",
       "    <tr>\n",
       "      <th>58482</th>\n",
       "      <td>46529091</td>\n",
       "      <td>NaN</td>\n",
       "      <td>87134768</td>\n",
       "      <td>19162323</td>\n",
       "      <td>1821052.0</td>\n",
       "      <td>0.0</td>\n",
       "    </tr>\n",
       "    <tr>\n",
       "      <th>58481</th>\n",
       "      <td>45919235</td>\n",
       "      <td>NaN</td>\n",
       "      <td>87134766</td>\n",
       "      <td>19162323</td>\n",
       "      <td>0.0</td>\n",
       "      <td>1071052.0</td>\n",
       "    </tr>\n",
       "    <tr>\n",
       "      <th>30765</th>\n",
       "      <td>46529090</td>\n",
       "      <td>1.0</td>\n",
       "      <td>87134767</td>\n",
       "      <td>19162323</td>\n",
       "      <td>1000000.0</td>\n",
       "      <td>0.0</td>\n",
       "    </tr>\n",
       "    <tr>\n",
       "      <th>58476</th>\n",
       "      <td>46402336</td>\n",
       "      <td>NaN</td>\n",
       "      <td>87154708</td>\n",
       "      <td>19166856</td>\n",
       "      <td>900000.0</td>\n",
       "      <td>0.0</td>\n",
       "    </tr>\n",
       "    <tr>\n",
       "      <th>58490</th>\n",
       "      <td>46539634</td>\n",
       "      <td>NaN</td>\n",
       "      <td>87154707</td>\n",
       "      <td>19166856</td>\n",
       "      <td>90000.0</td>\n",
       "      <td>0.0</td>\n",
       "    </tr>\n",
       "    <tr>\n",
       "      <th>30766</th>\n",
       "      <td>46529090</td>\n",
       "      <td>1.0</td>\n",
       "      <td>87154706</td>\n",
       "      <td>19166856</td>\n",
       "      <td>0.0</td>\n",
       "      <td>1000000.0</td>\n",
       "    </tr>\n",
       "    <tr>\n",
       "      <th>58491</th>\n",
       "      <td>46553407</td>\n",
       "      <td>NaN</td>\n",
       "      <td>87187802</td>\n",
       "      <td>19174421</td>\n",
       "      <td>0.0</td>\n",
       "      <td>4800000.0</td>\n",
       "    </tr>\n",
       "    <tr>\n",
       "      <th>58503</th>\n",
       "      <td>46557249</td>\n",
       "      <td>NaN</td>\n",
       "      <td>87187803</td>\n",
       "      <td>19174421</td>\n",
       "      <td>4590000.0</td>\n",
       "      <td>0.0</td>\n",
       "    </tr>\n",
       "    <tr>\n",
       "      <th>30767</th>\n",
       "      <td>46529090</td>\n",
       "      <td>1.0</td>\n",
       "      <td>87187804</td>\n",
       "      <td>19174421</td>\n",
       "      <td>200000.0</td>\n",
       "      <td>0.0</td>\n",
       "    </tr>\n",
       "    <tr>\n",
       "      <th>30768</th>\n",
       "      <td>46529090</td>\n",
       "      <td>1.0</td>\n",
       "      <td>87261028</td>\n",
       "      <td>19190163</td>\n",
       "      <td>0.0</td>\n",
       "      <td>200000.0</td>\n",
       "    </tr>\n",
       "    <tr>\n",
       "      <th>58492</th>\n",
       "      <td>46553407</td>\n",
       "      <td>NaN</td>\n",
       "      <td>87261029</td>\n",
       "      <td>19190163</td>\n",
       "      <td>150000.0</td>\n",
       "      <td>0.0</td>\n",
       "    </tr>\n",
       "    <tr>\n",
       "      <th>30769</th>\n",
       "      <td>46529090</td>\n",
       "      <td>1.0</td>\n",
       "      <td>87335817</td>\n",
       "      <td>19205422</td>\n",
       "      <td>1000000.0</td>\n",
       "      <td>0.0</td>\n",
       "    </tr>\n",
       "    <tr>\n",
       "      <th>58483</th>\n",
       "      <td>46529091</td>\n",
       "      <td>NaN</td>\n",
       "      <td>87335815</td>\n",
       "      <td>19205422</td>\n",
       "      <td>0.0</td>\n",
       "      <td>1821052.0</td>\n",
       "    </tr>\n",
       "    <tr>\n",
       "      <th>58477</th>\n",
       "      <td>46402336</td>\n",
       "      <td>NaN</td>\n",
       "      <td>87335816</td>\n",
       "      <td>19205422</td>\n",
       "      <td>0.0</td>\n",
       "      <td>900000.0</td>\n",
       "    </tr>\n",
       "  </tbody>\n",
       "</table>\n",
       "</div>"
      ],
      "text/plain": [
       "       address_id  cluster_id        id  transaction_id   received       sent\n",
       "58475    46402336         NaN  87134765        19162323        0.0  1800000.0\n",
       "58482    46529091         NaN  87134768        19162323  1821052.0        0.0\n",
       "58481    45919235         NaN  87134766        19162323        0.0  1071052.0\n",
       "30765    46529090         1.0  87134767        19162323  1000000.0        0.0\n",
       "58476    46402336         NaN  87154708        19166856   900000.0        0.0\n",
       "58490    46539634         NaN  87154707        19166856    90000.0        0.0\n",
       "30766    46529090         1.0  87154706        19166856        0.0  1000000.0\n",
       "58491    46553407         NaN  87187802        19174421        0.0  4800000.0\n",
       "58503    46557249         NaN  87187803        19174421  4590000.0        0.0\n",
       "30767    46529090         1.0  87187804        19174421   200000.0        0.0\n",
       "30768    46529090         1.0  87261028        19190163        0.0   200000.0\n",
       "58492    46553407         NaN  87261029        19190163   150000.0        0.0\n",
       "30769    46529090         1.0  87335817        19205422  1000000.0        0.0\n",
       "58483    46529091         NaN  87335815        19205422        0.0  1821052.0\n",
       "58477    46402336         NaN  87335816        19205422        0.0   900000.0"
      ]
     },
     "execution_count": 11,
     "metadata": {},
     "output_type": "execute_result"
    }
   ],
   "source": [
    "data = data.sort_values(by=['transaction_id'])\n",
    "data.head(15)"
   ]
  },
  {
   "cell_type": "code",
   "execution_count": 12,
   "metadata": {},
   "outputs": [
    {
     "data": {
      "text/html": [
       "<div>\n",
       "<style scoped>\n",
       "    .dataframe tbody tr th:only-of-type {\n",
       "        vertical-align: middle;\n",
       "    }\n",
       "\n",
       "    .dataframe tbody tr th {\n",
       "        vertical-align: top;\n",
       "    }\n",
       "\n",
       "    .dataframe thead th {\n",
       "        text-align: right;\n",
       "    }\n",
       "</style>\n",
       "<table border=\"1\" class=\"dataframe\">\n",
       "  <thead>\n",
       "    <tr style=\"text-align: right;\">\n",
       "      <th></th>\n",
       "      <th>address_id</th>\n",
       "      <th>cluster_id</th>\n",
       "      <th>id</th>\n",
       "      <th>transaction_id</th>\n",
       "      <th>received</th>\n",
       "      <th>sent</th>\n",
       "    </tr>\n",
       "  </thead>\n",
       "  <tbody>\n",
       "    <tr>\n",
       "      <th>58475</th>\n",
       "      <td>46402336</td>\n",
       "      <td>0.0</td>\n",
       "      <td>87134765</td>\n",
       "      <td>19162323</td>\n",
       "      <td>0.0</td>\n",
       "      <td>1800000.0</td>\n",
       "    </tr>\n",
       "    <tr>\n",
       "      <th>58482</th>\n",
       "      <td>46529091</td>\n",
       "      <td>0.0</td>\n",
       "      <td>87134768</td>\n",
       "      <td>19162323</td>\n",
       "      <td>1821052.0</td>\n",
       "      <td>0.0</td>\n",
       "    </tr>\n",
       "    <tr>\n",
       "      <th>58481</th>\n",
       "      <td>45919235</td>\n",
       "      <td>0.0</td>\n",
       "      <td>87134766</td>\n",
       "      <td>19162323</td>\n",
       "      <td>0.0</td>\n",
       "      <td>1071052.0</td>\n",
       "    </tr>\n",
       "    <tr>\n",
       "      <th>30765</th>\n",
       "      <td>46529090</td>\n",
       "      <td>1.0</td>\n",
       "      <td>87134767</td>\n",
       "      <td>19162323</td>\n",
       "      <td>1000000.0</td>\n",
       "      <td>0.0</td>\n",
       "    </tr>\n",
       "    <tr>\n",
       "      <th>58476</th>\n",
       "      <td>46402336</td>\n",
       "      <td>0.0</td>\n",
       "      <td>87154708</td>\n",
       "      <td>19166856</td>\n",
       "      <td>900000.0</td>\n",
       "      <td>0.0</td>\n",
       "    </tr>\n",
       "    <tr>\n",
       "      <th>58490</th>\n",
       "      <td>46539634</td>\n",
       "      <td>0.0</td>\n",
       "      <td>87154707</td>\n",
       "      <td>19166856</td>\n",
       "      <td>90000.0</td>\n",
       "      <td>0.0</td>\n",
       "    </tr>\n",
       "    <tr>\n",
       "      <th>30766</th>\n",
       "      <td>46529090</td>\n",
       "      <td>1.0</td>\n",
       "      <td>87154706</td>\n",
       "      <td>19166856</td>\n",
       "      <td>0.0</td>\n",
       "      <td>1000000.0</td>\n",
       "    </tr>\n",
       "    <tr>\n",
       "      <th>58491</th>\n",
       "      <td>46553407</td>\n",
       "      <td>0.0</td>\n",
       "      <td>87187802</td>\n",
       "      <td>19174421</td>\n",
       "      <td>0.0</td>\n",
       "      <td>4800000.0</td>\n",
       "    </tr>\n",
       "    <tr>\n",
       "      <th>58503</th>\n",
       "      <td>46557249</td>\n",
       "      <td>0.0</td>\n",
       "      <td>87187803</td>\n",
       "      <td>19174421</td>\n",
       "      <td>4590000.0</td>\n",
       "      <td>0.0</td>\n",
       "    </tr>\n",
       "    <tr>\n",
       "      <th>30767</th>\n",
       "      <td>46529090</td>\n",
       "      <td>1.0</td>\n",
       "      <td>87187804</td>\n",
       "      <td>19174421</td>\n",
       "      <td>200000.0</td>\n",
       "      <td>0.0</td>\n",
       "    </tr>\n",
       "    <tr>\n",
       "      <th>30768</th>\n",
       "      <td>46529090</td>\n",
       "      <td>1.0</td>\n",
       "      <td>87261028</td>\n",
       "      <td>19190163</td>\n",
       "      <td>0.0</td>\n",
       "      <td>200000.0</td>\n",
       "    </tr>\n",
       "    <tr>\n",
       "      <th>58492</th>\n",
       "      <td>46553407</td>\n",
       "      <td>0.0</td>\n",
       "      <td>87261029</td>\n",
       "      <td>19190163</td>\n",
       "      <td>150000.0</td>\n",
       "      <td>0.0</td>\n",
       "    </tr>\n",
       "    <tr>\n",
       "      <th>30769</th>\n",
       "      <td>46529090</td>\n",
       "      <td>1.0</td>\n",
       "      <td>87335817</td>\n",
       "      <td>19205422</td>\n",
       "      <td>1000000.0</td>\n",
       "      <td>0.0</td>\n",
       "    </tr>\n",
       "    <tr>\n",
       "      <th>58483</th>\n",
       "      <td>46529091</td>\n",
       "      <td>0.0</td>\n",
       "      <td>87335815</td>\n",
       "      <td>19205422</td>\n",
       "      <td>0.0</td>\n",
       "      <td>1821052.0</td>\n",
       "    </tr>\n",
       "    <tr>\n",
       "      <th>58477</th>\n",
       "      <td>46402336</td>\n",
       "      <td>0.0</td>\n",
       "      <td>87335816</td>\n",
       "      <td>19205422</td>\n",
       "      <td>0.0</td>\n",
       "      <td>900000.0</td>\n",
       "    </tr>\n",
       "    <tr>\n",
       "      <th>58508</th>\n",
       "      <td>46633507</td>\n",
       "      <td>0.0</td>\n",
       "      <td>87335818</td>\n",
       "      <td>19205422</td>\n",
       "      <td>1671052.0</td>\n",
       "      <td>0.0</td>\n",
       "    </tr>\n",
       "    <tr>\n",
       "      <th>58519</th>\n",
       "      <td>46634484</td>\n",
       "      <td>0.0</td>\n",
       "      <td>87337901</td>\n",
       "      <td>19205781</td>\n",
       "      <td>0.0</td>\n",
       "      <td>28000.0</td>\n",
       "    </tr>\n",
       "    <tr>\n",
       "      <th>30763</th>\n",
       "      <td>46634487</td>\n",
       "      <td>1.0</td>\n",
       "      <td>87337903</td>\n",
       "      <td>19205781</td>\n",
       "      <td>12500.0</td>\n",
       "      <td>0.0</td>\n",
       "    </tr>\n",
       "    <tr>\n",
       "      <th>58484</th>\n",
       "      <td>46529091</td>\n",
       "      <td>0.0</td>\n",
       "      <td>87337902</td>\n",
       "      <td>19205781</td>\n",
       "      <td>5500.0</td>\n",
       "      <td>0.0</td>\n",
       "    </tr>\n",
       "    <tr>\n",
       "      <th>30770</th>\n",
       "      <td>46529090</td>\n",
       "      <td>1.0</td>\n",
       "      <td>87337917</td>\n",
       "      <td>19205784</td>\n",
       "      <td>0.0</td>\n",
       "      <td>1000000.0</td>\n",
       "    </tr>\n",
       "  </tbody>\n",
       "</table>\n",
       "</div>"
      ],
      "text/plain": [
       "       address_id  cluster_id        id  transaction_id   received       sent\n",
       "58475    46402336         0.0  87134765        19162323        0.0  1800000.0\n",
       "58482    46529091         0.0  87134768        19162323  1821052.0        0.0\n",
       "58481    45919235         0.0  87134766        19162323        0.0  1071052.0\n",
       "30765    46529090         1.0  87134767        19162323  1000000.0        0.0\n",
       "58476    46402336         0.0  87154708        19166856   900000.0        0.0\n",
       "58490    46539634         0.0  87154707        19166856    90000.0        0.0\n",
       "30766    46529090         1.0  87154706        19166856        0.0  1000000.0\n",
       "58491    46553407         0.0  87187802        19174421        0.0  4800000.0\n",
       "58503    46557249         0.0  87187803        19174421  4590000.0        0.0\n",
       "30767    46529090         1.0  87187804        19174421   200000.0        0.0\n",
       "30768    46529090         1.0  87261028        19190163        0.0   200000.0\n",
       "58492    46553407         0.0  87261029        19190163   150000.0        0.0\n",
       "30769    46529090         1.0  87335817        19205422  1000000.0        0.0\n",
       "58483    46529091         0.0  87335815        19205422        0.0  1821052.0\n",
       "58477    46402336         0.0  87335816        19205422        0.0   900000.0\n",
       "58508    46633507         0.0  87335818        19205422  1671052.0        0.0\n",
       "58519    46634484         0.0  87337901        19205781        0.0    28000.0\n",
       "30763    46634487         1.0  87337903        19205781    12500.0        0.0\n",
       "58484    46529091         0.0  87337902        19205781     5500.0        0.0\n",
       "30770    46529090         1.0  87337917        19205784        0.0  1000000.0"
      ]
     },
     "execution_count": 12,
     "metadata": {},
     "output_type": "execute_result"
    }
   ],
   "source": [
    "data['cluster_id'] = data['cluster_id'].fillna(0)\n",
    "data.head(20)"
   ]
  },
  {
   "cell_type": "code",
   "execution_count": 13,
   "metadata": {},
   "outputs": [
    {
     "data": {
      "text/plain": [
       "13753"
      ]
     },
     "execution_count": 13,
     "metadata": {},
     "output_type": "execute_result"
    }
   ],
   "source": [
    "data.transaction_id.nunique()"
   ]
  },
  {
   "cell_type": "markdown",
   "metadata": {},
   "source": [
    " REZ_ij = сумма перевода из i-ого кластера в j-й"
   ]
  },
  {
   "cell_type": "code",
   "execution_count": 16,
   "metadata": {},
   "outputs": [],
   "source": [
    "res_12 = (data.query(\"cluster_id==1 and sent!=0\").merge(data.query(\"cluster_id==2 and received!=0\")[['received']],\n",
    "                                                       left_on='sent',right_on='received')['sent'].tolist())"
   ]
  },
  {
   "cell_type": "code",
   "execution_count": 34,
   "metadata": {},
   "outputs": [
    {
     "name": "stdout",
     "output_type": "stream",
     "text": [
      "1 Кластер перевел во 2й:  10008.97445222  BTC\n"
     ]
    }
   ],
   "source": [
    "print('1 Кластер перевел во 2й: ',np.sum(res_12)/(10**8),' BTC')"
   ]
  },
  {
   "cell_type": "code",
   "execution_count": 35,
   "metadata": {},
   "outputs": [
    {
     "name": "stdout",
     "output_type": "stream",
     "text": [
      "2й Кластер перевел в 1й:  10909.67771722  BTC\n"
     ]
    }
   ],
   "source": [
    "res_21 = (data.query(\"cluster_id==2 and sent!=0\").merge(data.query(\"cluster_id==1 and received!=0\")[['received']],\n",
    "                                                       left_on='sent',right_on='received')['sent'].tolist())\n",
    "print('2й Кластер перевел в 1й: ',np.sum(res_21)/(10**8),' BTC')"
   ]
  },
  {
   "cell_type": "code",
   "execution_count": 36,
   "metadata": {},
   "outputs": [
    {
     "name": "stdout",
     "output_type": "stream",
     "text": [
      "1й Кластер перевел в 0й:  3103.5941225  BTC\n"
     ]
    }
   ],
   "source": [
    "res_10 = (data.query(\"cluster_id==1 and sent!=0\").merge(data.query(\"cluster_id==0 and received!=0\")[['received']],\n",
    "                                                       left_on='sent',right_on='received')['sent'].tolist())\n",
    "print('1й Кластер перевел в 0й: ',np.sum(res_10)/(10**8),' BTC')"
   ]
  },
  {
   "cell_type": "code",
   "execution_count": 37,
   "metadata": {},
   "outputs": [
    {
     "name": "stdout",
     "output_type": "stream",
     "text": [
      "2й Кластер перевел в 0й:  2096.60958  BTC\n"
     ]
    }
   ],
   "source": [
    "res_20 = (data.query(\"cluster_id==2 and sent!=0\").merge(data.query(\"cluster_id==0 and received!=0\")[['received']],\n",
    "                                                       left_on='sent',right_on='received')['sent'].tolist())\n",
    "print('2й Кластер перевел в 0й: ',np.sum(res_20)/(10**8),' BTC')"
   ]
  },
  {
   "cell_type": "code",
   "execution_count": 38,
   "metadata": {},
   "outputs": [
    {
     "name": "stdout",
     "output_type": "stream",
     "text": [
      "0й Кластер перевел в 1й:  3478.95393454  BTC\n"
     ]
    }
   ],
   "source": [
    "res_01 = (data.query(\"cluster_id==0 and sent!=0\").merge(data.query(\"cluster_id==1 and received!=0\")[['received']],\n",
    "                                                       left_on='sent',right_on='received')['sent'].tolist())\n",
    "print('0й Кластер перевел в 1й: ',np.sum(res_01)/(10**8),' BTC')"
   ]
  },
  {
   "cell_type": "code",
   "execution_count": 39,
   "metadata": {},
   "outputs": [
    {
     "name": "stdout",
     "output_type": "stream",
     "text": [
      "0й Кластер перевел в 2й:  2182.57288  BTC\n"
     ]
    }
   ],
   "source": [
    "res_02 = (data.query(\"cluster_id==0 and sent!=0\").merge(data.query(\"cluster_id==2 and received!=0\")[['received']],\n",
    "                                                       left_on='sent',right_on='received')['sent'].tolist())\n",
    "print('0й Кластер перевел в 2й: ',np.sum(res_02)/(10**8),' BTC')"
   ]
  },
  {
   "cell_type": "code",
   "execution_count": 41,
   "metadata": {},
   "outputs": [
    {
     "name": "stdout",
     "output_type": "stream",
     "text": [
      "Fee 1 кластера:  2.475371  BTC\n"
     ]
    }
   ],
   "source": [
    "fee_1 = data.query(\"cluster_id==1\").received.sum()-data.query(\"cluster_id==1\").sent.sum()\n",
    "print('Fee 1 кластера: ',fee_1/(10**8),' BTC')"
   ]
  },
  {
   "cell_type": "code",
   "execution_count": 42,
   "metadata": {},
   "outputs": [
    {
     "name": "stdout",
     "output_type": "stream",
     "text": [
      "Fee 2 кластера:  -2.45212861  BTC\n"
     ]
    }
   ],
   "source": [
    "fee_2 = data.query(\"cluster_id==2\").received.sum()-data.query(\"cluster_id==2\").sent.sum()\n",
    "print('Fee 2 кластера: ',fee_2/(10**8),' BTC')"
   ]
  },
  {
   "cell_type": "code",
   "execution_count": 31,
   "metadata": {},
   "outputs": [
    {
     "data": {
      "text/plain": [
       "Text(0,0.5,'transaction_id')"
      ]
     },
     "execution_count": 31,
     "metadata": {},
     "output_type": "execute_result"
    },
    {
     "data": {
      "image/png": "[encoded data removed]",
      "text/plain": [
       "<Figure size 1152x720 with 2 Axes>"
      ]
     },
     "metadata": {},
     "output_type": "display_data"
    }
   ],
   "source": [
    "plt.figure(figsize=(16,10))\n",
    "plt.scatter(data.received, data.transaction_id, c=data.cluster_id,edgecolor='none', alpha=0.7, s=40)\n",
    "            \n",
    "plt.colorbar()\n",
    "plt.title('Received = f(transaction_id)')\n",
    "plt.xlabel('received')\n",
    "plt.ylabel('transaction_id')"
   ]
  },
  {
   "cell_type": "code",
   "execution_count": 46,
   "metadata": {},
   "outputs": [
    {
     "data": {
      "text/plain": [
       "Text(0,0.5,'transaction_id')"
      ]
     },
     "execution_count": 46,
     "metadata": {},
     "output_type": "execute_result"
    },
    {
     "data": {
      "image/png": "[encoded data removed]",
      "text/plain": [
       "<Figure size 1152x720 with 1 Axes>"
      ]
     },
     "metadata": {},
     "output_type": "display_data"
    }
   ],
   "source": [
    "plt.figure(figsize=(16,10))\n",
    "plt.scatter(data.query('cluster_id==2').received, data.query('cluster_id==2').transaction_id)\n",
    "            \n",
    "#plt.colorbar()\n",
    "plt.title('Received = f(transaction_id)  for cluster_2')\n",
    "plt.xlabel('received')\n",
    "plt.ylabel('transaction_id')"
   ]
  },
  {
   "cell_type": "code",
   "execution_count": null,
   "metadata": {},
   "outputs": [],
   "source": []
  },
  {
   "cell_type": "code",
   "execution_count": null,
   "metadata": {},
   "outputs": [],
   "source": []
  },
  {
   "cell_type": "code",
   "execution_count": null,
   "metadata": {},
   "outputs": [],
   "source": []
  }
 ],
 "metadata": {
  "kernelspec": {
   "display_name": "Python 3",
   "language": "python",
   "name": "python3"
  },
  "language_info": {
   "codemirror_mode": {
    "name": "ipython",
    "version": 3
   },
   "file_extension": ".py",
   "mimetype": "text/x-python",
   "name": "python",
   "nbconvert_exporter": "python",
   "pygments_lexer": "ipython3",
   "version": "3.6.5"
  }
 },
 "nbformat": 4,
 "nbformat_minor": 2
}
